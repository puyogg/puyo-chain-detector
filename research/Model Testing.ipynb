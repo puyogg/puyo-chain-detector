{
 "cells": [
  {
   "cell_type": "code",
   "execution_count": 1,
   "metadata": {},
   "outputs": [
    {
     "data": {
      "text/plain": "<torch.autograd.grad_mode.set_grad_enabled at 0x2d00a499250>"
     },
     "execution_count": 1,
     "metadata": {},
     "output_type": "execute_result"
    }
   ],
   "source": [
    "import torch\r\n",
    "from torch import nn\r\n",
    "from torchvision.transforms import transforms\r\n",
    "import numpy as np\r\n",
    "import matplotlib.pyplot as plt\r\n",
    "from PIL import Image\r\n",
    "import glob\r\n",
    "\r\n",
    "device = torch.device(\"cuda:0\" if torch.cuda.is_available() else \"cpu\")\r\n",
    "\r\n",
    "# Globally disable gradient calculations, since we're only gonna be doing\r\n",
    "# predictions in this notebook\r\n",
    "torch.set_grad_enabled(False)"
   ]
  },
  {
   "cell_type": "code",
   "execution_count": 2,
   "metadata": {},
   "outputs": [],
   "source": [
    "# Constants\r\n",
    "PUYO_H = 15\r\n",
    "PUYO_W = 16\r\n",
    "\r\n",
    "class_names = np.array(['0', 'J', 'R', 'G', 'B', 'Y', 'P'])"
   ]
  },
  {
   "cell_type": "code",
   "execution_count": 3,
   "metadata": {},
   "outputs": [],
   "source": [
    "# Helper functions\r\n",
    "def crop(img, x, y, width, height):\r\n",
    "    return img[y:(y+height), x:(x+width)]\r\n",
    "\r\n",
    "def crop_field_cells(img):\r\n",
    "    cells = []\r\n",
    "    for r in range(12):\r\n",
    "        y = r * PUYO_H\r\n",
    "        for c in range(6):\r\n",
    "            x = c * PUYO_W\r\n",
    "            cells.append(crop(img, x, y, PUYO_W, PUYO_H))\r\n",
    "    return cells"
   ]
  },
  {
   "cell_type": "code",
   "execution_count": 4,
   "metadata": {},
   "outputs": [
    {
     "data": {
      "text/plain": "PuyoClassifier(\n  (fc): Sequential(\n    (0): Linear(in_features=720, out_features=50, bias=True)\n    (1): ReLU()\n    (2): Linear(in_features=50, out_features=7, bias=True)\n    (3): ReLU()\n  )\n)"
     },
     "execution_count": 4,
     "metadata": {},
     "output_type": "execute_result"
    }
   ],
   "source": [
    "# Classifier\r\n",
    "class PuyoClassifier(nn.Module):\r\n",
    "    def __init__(self):\r\n",
    "        super().__init__()\r\n",
    "        self.fc = nn.Sequential(\r\n",
    "            nn.Linear(720, 50),\r\n",
    "            nn.ReLU(),\r\n",
    "            nn.Linear(50, 7),\r\n",
    "            nn.ReLU()\r\n",
    "        )\r\n",
    "    \r\n",
    "    def forward(self, x):\r\n",
    "        x = x.view(-1, 3 * PUYO_H * PUYO_W)\r\n",
    "        x = self.fc(x)\r\n",
    "        return x\r\n",
    "\r\n",
    "model = PuyoClassifier()\r\n",
    "model.load_state_dict(torch.load(\"puyo-classifier-feb8-2021.pt\"))\r\n",
    "model.to(device)\r\n",
    "model.eval()"
   ]
  },
  {
   "cell_type": "code",
   "execution_count": 20,
   "metadata": {},
   "outputs": [],
   "source": [
    "p1 = {\r\n",
    "    \"x\": 70,\r\n",
    "    \"y\": 40\r\n",
    "}\r\n",
    "\r\n",
    "p2 = {\r\n",
    "    \"x\": 314,\r\n",
    "    \"y\": 40\r\n",
    "}\r\n",
    "\r\n",
    "def predict_field(img: str, player):\r\n",
    "    im = np.array(Image.open(img).resize((1920 // 4, 1080 // 4)))\r\n",
    "    field = crop(im, player[\"x\"], player[\"y\"], PUYO_W * 6, PUYO_H * 12)\r\n",
    "    cells = crop_field_cells(field)\r\n",
    "\r\n",
    "    ## Convert field puyos to PyTorch tensor\r\n",
    "    puyos = np.array(cells)\r\n",
    "\r\n",
    "    # Put in NCHW order\r\n",
    "    puyos = puyos.transpose((0, 3, 1, 2))\r\n",
    "\r\n",
    "    # Convert np array to tensor\r\n",
    "    puyo_t = torch.tensor(puyos, device=device, dtype=torch.float).contiguous()\r\n",
    "\r\n",
    "    # Normalize to how the data was setup during model training\r\n",
    "    puyo_t = ((puyo_t / 255) - 0.5) / 0.5\r\n",
    "\r\n",
    "    return model(puyo_t)\r\n",
    "\r\n",
    "def get_max_pred(pred: torch.Tensor):\r\n",
    "    return pred.argmax(axis=1).cpu().numpy().reshape((12, 6))\r\n"
   ]
  },
  {
   "cell_type": "markdown",
   "metadata": {},
   "source": [
    "## Gummy Puyos\r\n",
    "![Gummy](./images/regions/p1field.png)"
   ]
  },
  {
   "cell_type": "code",
   "execution_count": 21,
   "metadata": {},
   "outputs": [
    {
     "name": "stdout",
     "output_type": "stream",
     "text": [
      "Player 1\n",
      "[['R' 'P' 'P' 'B' 'Y' 'B']\n",
      " ['P' 'R' 'Y' 'P' 'R' 'Y']\n",
      " ['R' 'P' 'Y' 'R' 'P' 'Y']\n",
      " ['P' 'P' 'R' 'R' 'B' 'R']\n",
      " ['R' 'R' 'Y' 'B' 'R' 'B']\n",
      " ['P' 'Y' 'P' 'B' 'R' 'R']\n",
      " ['P' 'B' 'R' 'Y' 'P' 'B']\n",
      " ['Y' 'P' 'P' 'B' 'P' 'P']\n",
      " ['R' 'R' 'R' 'P' 'Y' 'B']\n",
      " ['B' 'P' 'P' 'Y' 'B' 'Y']\n",
      " ['B' 'B' 'Y' 'Y' 'B' 'B']\n",
      " ['R' 'P' 'P' 'B' 'Y' 'P']]\n",
      "\n",
      "Player 2\n",
      "[['0' '0' '0' '0' '0' '0']\n",
      " ['0' '0' '0' '0' '0' '0']\n",
      " ['0' '0' '0' '0' '0' '0']\n",
      " ['0' '0' '0' '0' '0' 'R']\n",
      " ['P' 'B' '0' '0' 'R' 'Y']\n",
      " ['P' 'R' 'R' '0' 'R' 'P']\n",
      " ['B' 'P' 'P' 'Y' 'P' 'P']\n",
      " ['B' 'P' 'B' 'Y' 'R' 'R']\n",
      " ['Y' 'Y' 'Y' 'B' 'P' 'B']\n",
      " ['P' 'B' 'B' 'R' 'P' 'B']\n",
      " ['P' 'Y' 'Y' 'R' 'Y' 'Y']\n",
      " ['B' 'P' 'P' 'B' 'B' 'R']]\n",
      "\n"
     ]
    }
   ],
   "source": [
    "pred = predict_field(\"./images/regions/p1field.png\", p1)\r\n",
    "results = get_max_pred(pred)\r\n",
    "class_names[results]\r\n",
    "print(\"Player 1\")\r\n",
    "print(class_names[results])\r\n",
    "print()\r\n",
    "\r\n",
    "pred = predict_field(\"./images/regions/p1field.png\", p2)\r\n",
    "results = get_max_pred(pred)\r\n",
    "class_names[results]\r\n",
    "print(\"Player 2\")\r\n",
    "print(class_names[results])\r\n",
    "print()"
   ]
  },
  {
   "cell_type": "markdown",
   "metadata": {},
   "source": [
    "## Sonic Puyos\r\n",
    "![Sonic](./images/regions/sonic.png)"
   ]
  },
  {
   "cell_type": "code",
   "execution_count": 22,
   "metadata": {},
   "outputs": [
    {
     "name": "stdout",
     "output_type": "stream",
     "text": [
      "Player 1\n",
      "[['0' '0' '0' '0' '0' '0']\n",
      " ['0' '0' '0' '0' '0' '0']\n",
      " ['Y' 'B' '0' '0' '0' 'R']\n",
      " ['R' 'R' '0' '0' '0' 'Y']\n",
      " ['B' 'B' '0' '0' '0' '0']\n",
      " ['G' 'G' '0' '0' '0' '0']\n",
      " ['Y' 'G' '0' '0' 'Y' '0']\n",
      " ['B' 'Y' 'B' 'B' 'R' '0']\n",
      " ['G' 'G' 'Y' 'Y' 'Y' 'R']\n",
      " ['G' 'B' 'B' 'B' 'R' 'G']\n",
      " ['B' 'R' 'G' 'R' 'B' 'G']\n",
      " ['R' 'G' 'G' 'R' 'Y' 'G']]\n",
      "\n",
      "Player 2\n",
      "[['0' '0' '0' '0' '0' '0']\n",
      " ['0' '0' '0' '0' '0' '0']\n",
      " ['0' '0' '0' '0' '0' '0']\n",
      " ['G' '0' '0' '0' '0' '0']\n",
      " ['G' '0' '0' '0' '0' 'B']\n",
      " ['R' 'R' 'Y' '0' '0' 'B']\n",
      " ['Y' 'Y' 'Y' '0' '0' 'G']\n",
      " ['B' 'B' '0' '0' 'G' 'G']\n",
      " ['G' 'G' 'G' '0' 'Y' 'B']\n",
      " ['B' 'B' 'B' '0' 'Y' 'R']\n",
      " ['R' 'Y' 'R' 'Y' 'R' 'R']\n",
      " ['G' 'G' 'G' 'B' 'B' 'G']]\n",
      "\n"
     ]
    }
   ],
   "source": [
    "pred = predict_field(\"./images/regions/sonic.png\", p1)\r\n",
    "results = get_max_pred(pred)\r\n",
    "class_names[results]\r\n",
    "print(\"Player 1\")\r\n",
    "print(class_names[results])\r\n",
    "print()\r\n",
    "\r\n",
    "pred = predict_field(\"./images/regions/sonic.png\", p2)\r\n",
    "results = get_max_pred(pred)\r\n",
    "class_names[results]\r\n",
    "print(\"Player 2\")\r\n",
    "print(class_names[results])\r\n",
    "print()"
   ]
  },
  {
   "cell_type": "markdown",
   "metadata": {},
   "source": [
    "## Game Gear Puyos\r\n",
    "![Game Gear](./images/regions/gamegear.png)"
   ]
  },
  {
   "cell_type": "code",
   "execution_count": 24,
   "metadata": {},
   "outputs": [
    {
     "name": "stdout",
     "output_type": "stream",
     "text": [
      "Player 1\n",
      "[['G' '0' '0' '0' '0' 'G']\n",
      " ['R' '0' '0' '0' '0' '0']\n",
      " ['G' '0' '0' '0' '0' '0']\n",
      " ['G' 'B' '0' '0' 'B' 'G']\n",
      " ['Y' 'B' 'P' 'G' 'P' 'R']\n",
      " ['G' 'P' 'G' 'Y' 'G' 'P']\n",
      " ['P' 'B' 'Y' 'B' 'P' 'B']\n",
      " ['Y' 'G' 'Y' 'B' 'B' 'G']\n",
      " ['P' 'Y' 'P' 'G' 'P' 'P']\n",
      " ['Y' 'R' 'B' 'P' 'R' 'P']\n",
      " ['R' 'Y' 'P' 'B' 'G' 'Y']\n",
      " ['G' 'Y' 'R' 'G' 'G' 'B']]\n",
      "\n",
      "Player 2\n",
      "[['0' '0' '0' '0' '0' '0']\n",
      " ['0' '0' '0' '0' '0' '0']\n",
      " ['0' '0' '0' '0' '0' '0']\n",
      " ['0' '0' '0' '0' '0' '0']\n",
      " ['P' '0' '0' '0' '0' '0']\n",
      " ['P' '0' '0' '0' '0' '0']\n",
      " ['R' '0' '0' '0' '0' 'B']\n",
      " ['R' '0' '0' '0' '0' 'P']\n",
      " ['Y' 'Y' '0' '0' '0' 'P']\n",
      " ['R' 'R' '0' '0' '0' 'B']\n",
      " ['Y' 'Y' 'Y' '0' '0' 'B']\n",
      " ['G' 'G' 'G' '0' '0' 'G']]\n",
      "\n"
     ]
    }
   ],
   "source": [
    "pred = predict_field(\"./images/regions/gamegear.png\", p1)\r\n",
    "results = get_max_pred(pred)\r\n",
    "class_names[results]\r\n",
    "print(\"Player 1\")\r\n",
    "print(class_names[results])\r\n",
    "print()\r\n",
    "\r\n",
    "pred = predict_field(\"./images/regions/gamegear.png\", p2)\r\n",
    "results = get_max_pred(pred)\r\n",
    "class_names[results]\r\n",
    "print(\"Player 2\")\r\n",
    "print(class_names[results])\r\n",
    "print()"
   ]
  },
  {
   "cell_type": "markdown",
   "metadata": {},
   "source": [
    "## MSX Puyos\r\n",
    "![MSX](./images/regions/msx.png)"
   ]
  },
  {
   "cell_type": "code",
   "execution_count": 25,
   "metadata": {},
   "outputs": [
    {
     "name": "stdout",
     "output_type": "stream",
     "text": [
      "Player 1\n",
      "[['0' '0' '0' '0' '0' '0']\n",
      " ['0' '0' '0' '0' '0' '0']\n",
      " ['0' 'Y' '0' '0' '0' '0']\n",
      " ['0' 'G' '0' '0' '0' '0']\n",
      " ['0' '0' '0' '0' '0' '0']\n",
      " ['0' '0' '0' '0' '0' '0']\n",
      " ['0' '0' '0' '0' '0' '0']\n",
      " ['0' '0' '0' '0' '0' '0']\n",
      " ['0' '0' 'B' '0' 'B' '0']\n",
      " ['0' '0' 'R' 'Y' 'P' '0']\n",
      " ['B' '0' 'B' 'R' 'R' 'P']\n",
      " ['P' 'B' 'G' 'Y' 'Y' 'P']]\n",
      "\n",
      "Player 2\n",
      "[['0' '0' '0' '0' '0' '0']\n",
      " ['0' '0' '0' '0' '0' '0']\n",
      " ['0' '0' '0' '0' '0' '0']\n",
      " ['0' '0' '0' '0' '0' '0']\n",
      " ['0' '0' '0' '0' '0' 'Y']\n",
      " ['0' '0' '0' '0' '0' 'G']\n",
      " ['0' 'G' 'Y' '0' 'R' 'G']\n",
      " ['0' 'P' 'Y' '0' 'Y' 'G']\n",
      " ['0' 'Y' 'P' 'R' 'Y' 'R']\n",
      " ['J' 'Y' 'P' 'B' 'B' 'R']\n",
      " ['P' 'P' 'J' 'J' 'G' 'J']\n",
      " ['B' 'Y' 'Y' 'P' 'B' 'B']]\n",
      "\n"
     ]
    }
   ],
   "source": [
    "pred = predict_field(\"./images/regions/msx.png\", p1)\r\n",
    "results = get_max_pred(pred)\r\n",
    "class_names[results]\r\n",
    "print(\"Player 1\")\r\n",
    "print(class_names[results])\r\n",
    "print()\r\n",
    "\r\n",
    "pred = predict_field(\"./images/regions/msx.png\", p2)\r\n",
    "results = get_max_pred(pred)\r\n",
    "class_names[results]\r\n",
    "print(\"Player 2\")\r\n",
    "print(class_names[results])\r\n",
    "print()"
   ]
  }
 ],
 "metadata": {
  "kernelspec": {
   "display_name": "Python 3.9.1  ('venv': venv)",
   "metadata": {
    "interpreter": {
     "hash": "f66c7a8c6035622c37cfacc1d7a4be85e6deb734d06979c55acf2043dc3288e3"
    }
   },
   "name": "python3"
  },
  "language_info": {
   "codemirror_mode": {
    "name": "ipython",
    "version": 3
   },
   "file_extension": ".py",
   "mimetype": "text/x-python",
   "name": "python",
   "nbconvert_exporter": "python",
   "pygments_lexer": "ipython3",
   "version": "3.9.1"
  },
  "orig_nbformat": 2
 },
 "nbformat": 4,
 "nbformat_minor": 2
}